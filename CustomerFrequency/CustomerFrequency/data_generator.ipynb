{
 "cells": [
  {
   "cell_type": "markdown",
   "metadata": {},
   "source": [
    "## Loading modules and packages"
   ]
  },
  {
   "cell_type": "code",
   "execution_count": 10,
   "metadata": {},
   "outputs": [],
   "source": [
    "from CustomerFrequency.data_preparation.data_generator import generate_customer\n",
    "from CustomerFrequency.data_preparation.data_generator import generate_menu\n",
    "from CustomerFrequency.data_preparation.data_generator import generate_orders\n",
    "from CustomerFrequency.data_preparation.data_generator import generate_employee\n",
    "from CustomerFrequency.data_preparation.data_generator import generate_transactions\n",
    "import pandas as pd\n",
    "import random"
   ]
  },
  {
   "cell_type": "markdown",
   "metadata": {},
   "source": [
    "## Declaring Constants"
   ]
  },
  {
   "cell_type": "code",
   "execution_count": 11,
   "metadata": {},
   "outputs": [],
   "source": [
    "NUMBER_OF_TRANSACTIONS=5000\n",
    "NUMBER_OF_EMPLOYEES=100\n",
    "NUMBER_OF_CUSTOMERS=2000\n",
    "NUMBER_OF_ORDERS=200"
   ]
  },
  {
   "cell_type": "markdown",
   "metadata": {},
   "source": [
    "## Generating Employee Data"
   ]
  },
  {
   "cell_type": "code",
   "execution_count": 13,
   "metadata": {},
   "outputs": [
    {
     "name": "stdout",
     "output_type": "stream",
     "text": [
      "   employee_Id first_name last_name                     email  builidingID  \\\n",
      "0            0    Matthew     Kelly  michaelsmith@example.org         9220   \n",
      "1            1     Olivia     Davis   bruceturner@example.org         5796   \n",
      "2            2      Kevin     Smith      jaykelly@example.net         3088   \n",
      "3            3     Steven     Evans       eflores@example.net         3231   \n",
      "4            4    Matthew     Lewis       david53@example.com         4847   \n",
      "\n",
      "       phone_number  \n",
      "0  +374 (10) 150061  \n",
      "1  +374 (96) 211531  \n",
      "2  +374 (22) 654090  \n",
      "3  +374 (33) 128748  \n",
      "4  +374 (27) 493392  \n"
     ]
    }
   ],
   "source": [
    "employee_data = [generate_employee(employee_id) for employee_id in range(NUMBER_OF_EMPLOYEES)]\n",
    "\n",
    "# Convert the list of employee data to a DataFrame\n",
    "employee_df = pd.DataFrame(employee_data)\n",
    "\n",
    "# Display the first few rows of the DataFrame\n",
    "print(employee_df.head())\n",
    "\n",
    "# Write the DataFrame to a CSV file\n",
    "employee_df.to_csv('employee_data.csv', index=False)"
   ]
  },
  {
   "cell_type": "markdown",
   "metadata": {},
   "source": [
    "## Generating Customer Data"
   ]
  },
  {
   "cell_type": "code",
   "execution_count": 15,
   "metadata": {},
   "outputs": [
    {
     "name": "stdout",
     "output_type": "stream",
     "text": [
      "   customer_id first_name last_name      phone_number\n",
      "0            0     Alexis   Brennan  +374 (33) 300284\n",
      "1            1      Wendy      Reid  +374 (43) 211176\n",
      "2            2       Glen  Whitaker  +374 (16) 407151\n",
      "3            3    Melissa    Garcia  +374 (12) 705615\n",
      "4            4    Michael    Ramsey  +374 (86) 368927\n"
     ]
    }
   ],
   "source": [
    "customer_data = [generate_customer(customer_id) for customer_id in range(NUMBER_OF_CUSTOMERS)]\n",
    "\n",
    "# Convert the list of customer data to a DataFrame\n",
    "customer_df = pd.DataFrame(customer_data)\n",
    "\n",
    "# Display the first few rows of the DataFrame\n",
    "print(customer_df.head())\n",
    "\n",
    "# Write the DataFrame to a CSV file\n",
    "customer_df.to_csv('customer_data.csv', index=False)"
   ]
  },
  {
   "cell_type": "markdown",
   "metadata": {},
   "source": [
    "## Generating Menu Data"
   ]
  },
  {
   "cell_type": "code",
   "execution_count": 16,
   "metadata": {},
   "outputs": [
    {
     "name": "stdout",
     "output_type": "stream",
     "text": [
      "   menu_id                            name price  size\n",
      "0        1       Iced Blonde Vanilla Latte   600  0.75\n",
      "1        2          Chai Crème Frappuccino   750  0.25\n",
      "2        3      Featured / Seasonal Cookie   600   0.5\n",
      "3        4  Oleato Caffe Latte w/ Oatmilk*   350  0.75\n",
      "4        5                     Caffè Misto   600  0.25\n"
     ]
    }
   ],
   "source": [
    "menu_data = [generate_menu(menu_id) for menu_id in range(1, 101)]\n",
    "\n",
    "# Convert the list of menu data to a DataFrame\n",
    "menu_df = pd.DataFrame(menu_data)\n",
    "\n",
    "# Display the first few rows of the DataFrame\n",
    "print(menu_df.head())\n",
    "\n",
    "# Write the DataFrame to a CSV file\n",
    "menu_df.to_csv('menu_data.csv', index=False)"
   ]
  },
  {
   "cell_type": "markdown",
   "metadata": {},
   "source": [
    "## Generating Orders Data"
   ]
  },
  {
   "cell_type": "code",
   "execution_count": 17,
   "metadata": {},
   "outputs": [
    {
     "name": "stdout",
     "output_type": "stream",
     "text": [
      "   order_id              date_of_order  price  quantity_ordered  menu_id  \\\n",
      "0         1 2022-09-23 20:55:02.231626  20390                 2       50   \n",
      "1         2 2020-04-08 14:35:40.221462  29440                18       91   \n",
      "2         3 2021-12-08 18:57:35.158228   4090                11       49   \n",
      "3         4 2021-04-25 15:59:44.996317   8830                15       54   \n",
      "4         5 2023-11-19 01:20:44.635832  10330                14       78   \n",
      "\n",
      "   customer_id  \n",
      "0          122  \n",
      "1          321  \n",
      "2          449  \n",
      "3          364  \n",
      "4          621  \n"
     ]
    }
   ],
   "source": [
    "order_data = [] \n",
    "for order_id in range(1, NUMBER_OF_ORDERS + 1):\n",
    "    menu_id = random.randint(1, len(menu_data))\n",
    "    customer_id = random.randint(1, len(customer_data))\n",
    "\n",
    "    order = generate_orders(order_id, menu_id, customer_id)\n",
    "    order_data.append(order)\n",
    "\n",
    "# Convert the list of order data to a DataFrame\n",
    "order_df = pd.DataFrame(order_data)\n",
    "\n",
    "# Display the first few rows of the DataFrame\n",
    "print(order_df.head())\n",
    "\n",
    "# Write the DataFrame to a CSV file\n",
    "order_df.to_csv('order_data.csv', index=False)\n"
   ]
  },
  {
   "cell_type": "markdown",
   "metadata": {},
   "source": [
    "## Generating Transactions Data"
   ]
  },
  {
   "cell_type": "code",
   "execution_count": 18,
   "metadata": {},
   "outputs": [
    {
     "name": "stdout",
     "output_type": "stream",
     "text": [
      "   transaction_id            date_of_payment  customer_id  employee_id  \\\n",
      "0               1 2022-10-25 02:08:27.402660          217            5   \n",
      "1               2 2023-12-25 15:24:27.909259         1851           59   \n",
      "2               3 2021-04-04 12:15:03.257180         1448            6   \n",
      "3               4 2021-04-11 17:05:14.265177           83            9   \n",
      "4               5 2021-07-04 00:25:27.488266         1818           49   \n",
      "\n",
      "   amount      type  \n",
      "0    1780  applepay  \n",
      "1   29470  applepay  \n",
      "2    6070      visa  \n",
      "3   10990      visa  \n",
      "4   20510  applepay  \n"
     ]
    }
   ],
   "source": [
    "transactions_data = []\n",
    "\n",
    "for transaction_id in range(1, NUMBER_OF_TRANSACTIONS + 1):\n",
    "    customer_id = random.randint(1, len(customer_data))\n",
    "    employee_id = random.randint(1, len(employee_data))\n",
    "    \n",
    "    transaction = generate_transactions(transaction_id, customer_id, employee_id)\n",
    "    transactions_data.append(transaction)\n",
    "\n",
    "# Convert the list of transaction data to a DataFrame\n",
    "transactions_df = pd.DataFrame(transactions_data)\n",
    "\n",
    "# Display the first few rows of the DataFrame\n",
    "print(transactions_df.head())\n",
    "\n",
    "# Write the DataFrame to a CSV file\n",
    "transactions_df.to_csv('transactions_data.csv', index=False)\n",
    "  "
   ]
  },
  {
   "cell_type": "code",
   "execution_count": null,
   "metadata": {},
   "outputs": [],
   "source": []
  },
  {
   "cell_type": "markdown",
   "metadata": {},
   "source": []
  }
 ],
 "metadata": {
  "kernelspec": {
   "display_name": "venv",
   "language": "python",
   "name": "python3"
  },
  "language_info": {
   "codemirror_mode": {
    "name": "ipython",
    "version": 3
   },
   "file_extension": ".py",
   "mimetype": "text/x-python",
   "name": "python",
   "nbconvert_exporter": "python",
   "pygments_lexer": "ipython3",
   "version": "3.11.5"
  }
 },
 "nbformat": 4,
 "nbformat_minor": 2
}
