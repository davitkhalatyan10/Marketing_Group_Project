{
 "cells": [
  {
   "cell_type": "markdown",
   "metadata": {},
   "source": [
    "# Introduction\n",
    "\n",
    "This notebook will demonstrate the application of Customer Segmentation and RFM (Recency, Frequency, Monetary Value) Analysis using our  package. These techniques are important to understand behaviors of the customers and improve retention strategies in the business' markets."
   ]
  },
  {
   "cell_type": "markdown",
   "metadata": {},
   "source": [
    "## Setup"
   ]
  },
  {
   "cell_type": "code",
   "execution_count": 11,
   "metadata": {},
   "outputs": [],
   "source": [
    "import pandas as pd\n",
    "import matplotlib.pyplot as plt\n",
    "import seaborn as sns\n",
    "import random \n",
    "\n",
    "# Import custom modules from our package\n",
    "from CustomerFrequency.DataBase.data_generator import generate_customer, generate_menu, generate_orders, generate_employee, generate_transactions\n",
    "\n",
    "# Ensure that all visualizations are plotted inline with the notebook\n",
    "%matplotlib inline"
   ]
  },
  {
   "cell_type": "markdown",
   "metadata": {},
   "source": [
    "# Data Generation\n",
    "\n",
    "Generate data using our data_generator module"
   ]
  },
  {
   "cell_type": "code",
   "execution_count": 5,
   "metadata": {},
   "outputs": [],
   "source": [
    "NUMBER_OF_TRANSACTIONS=2000\n",
    "NUMBER_OF_EMPLOYEES=30\n",
    "NUMBER_OF_CUSTOMERS=1500\n",
    "NUMBER_OF_ORDERS=150"
   ]
  },
  {
   "cell_type": "code",
   "execution_count": 7,
   "metadata": {},
   "outputs": [
    {
     "name": "stdout",
     "output_type": "stream",
     "text": [
      "   employee_Id first_name last_name                      email  builidingID  \\\n",
      "0            0      Alvin      Cruz         mlopez@example.com         4365   \n",
      "1            1   Patricia   Everett    susanromero@example.com         7591   \n",
      "2            2    Jessica   Osborne  jensenmatthew@example.com         5948   \n",
      "3            3     Regina    Watson     kimberly14@example.org         7856   \n",
      "4            4      Aaron  Robinson     ryanpowell@example.net         3042   \n",
      "\n",
      "       phone_number  \n",
      "0  +374 (19) 664561  \n",
      "1  +374 (76) 766040  \n",
      "2  +374 (50) 792637  \n",
      "3  +374 (62) 595882  \n",
      "4  +374 (66) 440717  \n"
     ]
    }
   ],
   "source": [
    "employee_data = [generate_employee(employee_id) for employee_id in range(NUMBER_OF_EMPLOYEES)]\n",
    "\n",
    "# Convert the list of employee data to a DataFrame\n",
    "employee_df = pd.DataFrame(employee_data)\n",
    "\n",
    "# Display the first few rows of the DataFrame\n",
    "print(employee_df.head())\n",
    "\n",
    "# Write the DataFrame to a CSV file\n",
    "employee_df.to_csv('employee_data.csv', index=False)"
   ]
  },
  {
   "cell_type": "code",
   "execution_count": 8,
   "metadata": {},
   "outputs": [
    {
     "name": "stdout",
     "output_type": "stream",
     "text": [
      "   customer_id first_name last_name      phone_number\n",
      "0            0    Jessica     Logan  +374 (15) 040714\n",
      "1            1       Todd     Glass  +374 (36) 606094\n",
      "2            2      Diane  Schaefer  +374 (44) 008644\n",
      "3            3      Amber     Perez  +374 (27) 555589\n",
      "4            4     Donald     Greer  +374 (93) 139155\n"
     ]
    }
   ],
   "source": [
    "customer_data = [generate_customer(customer_id) for customer_id in range(NUMBER_OF_CUSTOMERS)]\n",
    "\n",
    "# Convert the list of customer data to a DataFrame\n",
    "customer_df = pd.DataFrame(customer_data)\n",
    "\n",
    "# Display the first few rows of the DataFrame\n",
    "print(customer_df.head())\n",
    "\n",
    "# Write the DataFrame to a CSV file\n",
    "customer_df.to_csv('customer_data.csv', index=False)"
   ]
  },
  {
   "cell_type": "code",
   "execution_count": 9,
   "metadata": {},
   "outputs": [
    {
     "name": "stdout",
     "output_type": "stream",
     "text": [
      "   menu_id                                   name price  size\n",
      "0        1          Iced Peach Green Tea Lemonade   400  0.25\n",
      "1        2                   Iced Peach Green Tea   550  0.25\n",
      "2        3  Iced Hazelnut Oatmilk Shaken Espresso   650  0.75\n",
      "3        4                  Chocolate Chip Cookie   550  0.25\n",
      "4        5                Iced Black Tea Lemonade   600  0.25\n"
     ]
    }
   ],
   "source": [
    "menu_data = [generate_menu(menu_id) for menu_id in range(1, 101)]\n",
    "\n",
    "# Convert the list of menu data to a DataFrame\n",
    "menu_df = pd.DataFrame(menu_data)\n",
    "\n",
    "# Display the first few rows of the DataFrame\n",
    "print(menu_df.head())\n",
    "\n",
    "# Write the DataFrame to a CSV file\n",
    "menu_df.to_csv('menu_data.csv', index=False)"
   ]
  },
  {
   "cell_type": "markdown",
   "metadata": {},
   "source": [
    "order_data = [] \n",
    "for order_id in range(1, NUMBER_OF_ORDERS + 1):\n",
    "    menu_id = random.randint(1, len(menu_data))\n",
    "    customer_id = random.randint(1, len(customer_data))\n",
    "\n",
    "    order = generate_orders(order_id, menu_id, customer_id)\n",
    "    order_data.append(order)\n",
    "\n",
    "# Convert the list of order data to a DataFrame\n",
    "order_df = pd.DataFrame(order_data)\n",
    "\n",
    "# Display the first few rows of the DataFrame\n",
    "print(order_df.head())\n",
    "\n",
    "# Write the DataFrame to a CSV file\n",
    "order_df.to_csv('order_data.csv', index=False)"
   ]
  },
  {
   "cell_type": "code",
   "execution_count": 13,
   "metadata": {},
   "outputs": [
    {
     "name": "stdout",
     "output_type": "stream",
     "text": [
      "   transaction_id            date_of_payment  customer_id  employee_id  \\\n",
      "0               1 2021-08-11 17:34:31.276623         1225           29   \n",
      "1               2 2020-03-23 08:56:55.481713         1023           11   \n",
      "2               3 2023-08-19 02:30:23.556348         1266           22   \n",
      "3               4 2023-07-30 01:07:54.102100          220            4   \n",
      "4               5 2023-09-03 07:49:11.894799          691            6   \n",
      "\n",
      "   amount        type  \n",
      "0   25570        visa  \n",
      "1    2910        cash  \n",
      "2   18500  mastercard  \n",
      "3   23810    applepay  \n",
      "4    7890        cash  \n"
     ]
    }
   ],
   "source": [
    "transactions_data = []\n",
    "\n",
    "for transaction_id in range(1, NUMBER_OF_TRANSACTIONS + 1):\n",
    "    customer_id = random.randint(1, len(customer_data))\n",
    "    employee_id = random.randint(1, len(employee_data))\n",
    "    \n",
    "    transaction = generate_transactions(transaction_id, customer_id, employee_id)\n",
    "    transactions_data.append(transaction)\n",
    "\n",
    "# Convert the list of transaction data to a DataFrame\n",
    "transactions_df = pd.DataFrame(transactions_data)\n",
    "\n",
    "# Display the first few rows of the DataFrame\n",
    "print(transactions_df.head())\n",
    "\n",
    "# Write the DataFrame to a CSV file\n",
    "transactions_df.to_csv('transactions_data.csv', index=False)\n",
    "  "
   ]
  },
  {
   "cell_type": "markdown",
   "metadata": {},
   "source": [
    "# Customer Segmentation Scenario\n",
    "\n",
    "In this scenario, we will demonstrate how our module will segment customers based on their purchasing behavior - how frequently they purchase the product."
   ]
  },
  {
   "cell_type": "markdown",
   "metadata": {},
   "source": [
    "# Load the data\n",
    "customer_data = pd.read_csv('CustomerFrequency/Data/customer_data.csv')\n",
    "transaction_data = pd.read_csv('CustomerFrequency/Data/transactions_data.csv')"
   ]
  },
  {
   "cell_type": "code",
   "execution_count": 17,
   "metadata": {},
   "outputs": [
    {
     "ename": "TypeError",
     "evalue": "list indices must be integers or slices, not str",
     "output_type": "error",
     "traceback": [
      "\u001b[0;31m---------------------------------------------------------------------------\u001b[0m",
      "\u001b[0;31mTypeError\u001b[0m                                 Traceback (most recent call last)",
      "Cell \u001b[0;32mIn[17], line 3\u001b[0m\n\u001b[1;32m      1\u001b[0m \u001b[38;5;66;03m# Data Pre-processing\u001b[39;00m\n\u001b[0;32m----> 3\u001b[0m transactions_data[\u001b[38;5;124m'\u001b[39m\u001b[38;5;124mdate_of_payment\u001b[39m\u001b[38;5;124m'\u001b[39m] \u001b[38;5;241m=\u001b[39m pd\u001b[38;5;241m.\u001b[39mto_datetime(\u001b[43mtransactions_data\u001b[49m\u001b[43m[\u001b[49m\u001b[38;5;124;43m'\u001b[39;49m\u001b[38;5;124;43mdate_of_payment\u001b[39;49m\u001b[38;5;124;43m'\u001b[39;49m\u001b[43m]\u001b[49m)\n\u001b[1;32m      5\u001b[0m transactions_per_customer \u001b[38;5;241m=\u001b[39m transactions_data[\u001b[38;5;124m'\u001b[39m\u001b[38;5;124mcustomer_id\u001b[39m\u001b[38;5;124m'\u001b[39m]\u001b[38;5;241m.\u001b[39mvalue_counts()\u001b[38;5;241m.\u001b[39mreset_index()\n\u001b[1;32m      6\u001b[0m transactions_per_customer\u001b[38;5;241m.\u001b[39mcolumns \u001b[38;5;241m=\u001b[39m [\u001b[38;5;124m'\u001b[39m\u001b[38;5;124mcustomer_id\u001b[39m\u001b[38;5;124m'\u001b[39m, \u001b[38;5;124m'\u001b[39m\u001b[38;5;124mtransaction_count\u001b[39m\u001b[38;5;124m'\u001b[39m]\n",
      "\u001b[0;31mTypeError\u001b[0m: list indices must be integers or slices, not str"
     ]
    }
   ],
   "source": [
    "# Data Pre-processing\n",
    "\n",
    "transactions_data['date_of_payment'] = pd.to_datetime(transactions_data['date_of_payment'])\n",
    "\n",
    "transactions_per_customer = transactions_data['customer_id'].value_counts().reset_index()\n",
    "transactions_per_customer.columns = ['customer_id', 'transaction_count']\n",
    "\n",
    "customer_transaction_data = pd.merge(customer_data, transactions_per_customer, on='customer_id', how='left').fillna(0)\n",
    "customer_transaction_data.head()"
   ]
  },
  {
   "cell_type": "code",
   "execution_count": null,
   "metadata": {},
   "outputs": [],
   "source": [
    "# Define customer segments based on transaction count\n",
    "def categorize_customer(x):\n",
    "    if x > 4:\n",
    "        return 'Frequent Buyer'\n",
    "    elif x >= 2 and x <= 4:\n",
    "        return 'Occasional Buyer'\n",
    "    elif x == 1:\n",
    "        return 'One-Time Buyer'\n",
    "    else:\n",
    "        return 'Inactive'\n",
    "\n",
    "# Apply the categorization function\n",
    "customer_transaction_data['customer_segment'] = customer_transaction_data['transaction_count'].apply(categorize_customer)\n",
    "\n",
    "# Display the distribution of customer segments\n",
    "customer_segment_distribution = customer_transaction_data['customer_segment'].value_counts()\n",
    "customer_segment_distribution, customer_transaction_data.head()"
   ]
  },
  {
   "cell_type": "markdown",
   "metadata": {},
   "source": [
    "So, here we can see the customer segments, based on their purchasing frequency.\n",
    "\n",
    "Below, we can see the visualization of the segments:"
   ]
  },
  {
   "cell_type": "code",
   "execution_count": null,
   "metadata": {},
   "outputs": [],
   "source": [
    "visualize_customer_segments(customer_segment_distribution)"
   ]
  }
 ],
 "metadata": {
  "kernelspec": {
   "display_name": "Python 3 (ipykernel)",
   "language": "python",
   "name": "python3"
  },
  "language_info": {
   "codemirror_mode": {
    "name": "ipython",
    "version": 3
   },
   "file_extension": ".py",
   "mimetype": "text/x-python",
   "name": "python",
   "nbconvert_exporter": "python",
   "pygments_lexer": "ipython3",
   "version": "3.12.3"
  }
 },
 "nbformat": 4,
 "nbformat_minor": 2
}
