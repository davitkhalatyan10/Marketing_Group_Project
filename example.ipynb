{
 "cells": [
  {
   "cell_type": "markdown",
   "metadata": {},
   "source": [
    "# Introduction\n",
    "\n",
    "This notebook will demonstrate the application of Customer Segmentation and RFM (Recency, Frequency, Monetary Value) Analysis using our  package. These techniques are important to understand behaviors of the customers and improve retention strategies in the business' markets."
   ]
  },
  {
   "cell_type": "markdown",
   "metadata": {},
   "source": [
    "## Setup"
   ]
  },
  {
   "cell_type": "code",
   "execution_count": 6,
   "metadata": {},
   "outputs": [],
   "source": [
    "import pandas as pd\n",
    "import matplotlib.pyplot as plt\n",
    "import seaborn as sns\n",
    "\n",
    "# Import custom modules from our package\n",
    "from CustomerFrequency.DataBase.data_generator import generate_customer, generate_menu, generate_orders, generate_employee, generate_transactions\n",
    "\n",
    "# Ensure that all visualizations are plotted inline with the notebook\n",
    "%matplotlib inline"
   ]
  },
  {
   "cell_type": "markdown",
   "metadata": {},
   "source": [
    "# Data Generation\n",
    "\n",
    "Generate data using our data_generator module"
   ]
  },
  {
   "cell_type": "code",
   "execution_count": 7,
   "metadata": {},
   "outputs": [],
   "source": [
    "NUMBER_OF_TRANSACTIONS=2000\n",
    "NUMBER_OF_EMPLOYEES=30\n",
    "NUMBER_OF_CUSTOMERS=1500\n",
    "NUMBER_OF_ORDERS=150"
   ]
  },
  {
   "cell_type": "code",
   "execution_count": 8,
   "metadata": {},
   "outputs": [
    {
     "name": "stdout",
     "output_type": "stream",
     "text": [
      "   employee_Id first_name last_name                       email  builidingID  \\\n",
      "0            0       Mark      Lowe       gsullivan@example.com         7359   \n",
      "1            1      Kayla  Anderson  joshuamarshall@example.com         6603   \n",
      "2            2     Joseph    Hanson          gstout@example.org         4373   \n",
      "3            3    Patrick     Reyes         kevin31@example.com         3150   \n",
      "4            4    Jeffrey       Lee          lori69@example.net         3207   \n",
      "\n",
      "       phone_number  \n",
      "0  +374 (87) 526126  \n",
      "1  +374 (96) 295022  \n",
      "2  +374 (38) 081212  \n",
      "3  +374 (94) 321398  \n",
      "4  +374 (74) 134227  \n"
     ]
    }
   ],
   "source": [
    "employee_data = [generate_employee(employee_id) for employee_id in range(NUMBER_OF_EMPLOYEES)]\n",
    "\n",
    "# Convert the list of employee data to a DataFrame\n",
    "employee_df = pd.DataFrame(employee_data)\n",
    "\n",
    "# Display the first few rows of the DataFrame\n",
    "print(employee_df.head())\n",
    "\n",
    "# Write the DataFrame to a CSV file\n",
    "employee_df.to_csv('employee_data.csv', index=False)"
   ]
  },
  {
   "cell_type": "code",
   "execution_count": 9,
   "metadata": {},
   "outputs": [
    {
     "name": "stdout",
     "output_type": "stream",
     "text": [
      "   customer_id first_name last_name      phone_number\n",
      "0            0   Jennifer    Martin  +374 (76) 826999\n",
      "1            1    Melissa     Craig  +374 (85) 285434\n",
      "2            2        Roy   Hammond  +374 (59) 403635\n",
      "3            3     Connie    Taylor  +374 (37) 582973\n",
      "4            4   Savannah    Adkins  +374 (96) 843228\n"
     ]
    }
   ],
   "source": [
    "customer_data = [generate_customer(customer_id) for customer_id in range(NUMBER_OF_CUSTOMERS)]\n",
    "\n",
    "# Convert the list of customer data to a DataFrame\n",
    "customer_df = pd.DataFrame(customer_data)\n",
    "\n",
    "# Display the first few rows of the DataFrame\n",
    "print(customer_df.head())\n",
    "\n",
    "# Write the DataFrame to a CSV file\n",
    "customer_df.to_csv('customer_data.csv', index=False)"
   ]
  },
  {
   "cell_type": "code",
   "execution_count": 10,
   "metadata": {},
   "outputs": [
    {
     "name": "stdout",
     "output_type": "stream",
     "text": [
      "   menu_id                                    name price  size\n",
      "0        1                    Cinnamon Dolce Latte   400   0.5\n",
      "1        2                          Iced Black Tea  1200  0.75\n",
      "2        3                             Caffè Latte   350   0.5\n",
      "3        4  Cinnamon Caramel Cream Nitro Cold Brew   600  0.25\n",
      "4        5                     Caramel Frappuccino   450   0.5\n"
     ]
    }
   ],
   "source": [
    "menu_data = [generate_menu(menu_id) for menu_id in range(1, 101)]\n",
    "\n",
    "# Convert the list of menu data to a DataFrame\n",
    "menu_df = pd.DataFrame(menu_data)\n",
    "\n",
    "# Display the first few rows of the DataFrame\n",
    "print(menu_df.head())\n",
    "\n",
    "# Write the DataFrame to a CSV file\n",
    "menu_df.to_csv('menu_data.csv', index=False)"
   ]
  },
  {
   "cell_type": "markdown",
   "metadata": {},
   "source": [
    "order_data = [] \n",
    "for order_id in range(1, NUMBER_OF_ORDERS + 1):\n",
    "    menu_id = random.randint(1, len(menu_data))\n",
    "    customer_id = random.randint(1, len(customer_data))\n",
    "\n",
    "    order = generate_orders(order_id, menu_id, customer_id)\n",
    "    order_data.append(order)\n",
    "\n",
    "# Convert the list of order data to a DataFrame\n",
    "order_df = pd.DataFrame(order_data)\n",
    "\n",
    "# Display the first few rows of the DataFrame\n",
    "print(order_df.head())\n",
    "\n",
    "# Write the DataFrame to a CSV file\n",
    "order_df.to_csv('order_data.csv', index=False)"
   ]
  },
  {
   "cell_type": "code",
   "execution_count": null,
   "metadata": {},
   "outputs": [],
   "source": [
    "transactions_data = []\n",
    "\n",
    "for transaction_id in range(1, NUMBER_OF_TRANSACTIONS + 1):\n",
    "    customer_id = random.randint(1, len(customer_data))\n",
    "    employee_id = random.randint(1, len(employee_data))\n",
    "    \n",
    "    transaction = generate_transactions(transaction_id, customer_id, employee_id)\n",
    "    transactions_data.append(transaction)\n",
    "\n",
    "# Convert the list of transaction data to a DataFrame\n",
    "transactions_df = pd.DataFrame(transactions_data)\n",
    "\n",
    "# Display the first few rows of the DataFrame\n",
    "print(transactions_df.head())\n",
    "\n",
    "# Write the DataFrame to a CSV file\n",
    "transactions_df.to_csv('transactions_data.csv', index=False)\n",
    "  "
   ]
  },
  {
   "cell_type": "markdown",
   "metadata": {},
   "source": [
    "# Customer Segmentation Scenario\n",
    "\n",
    "In this scenario, we will demonstrate how our module will segment customers based on their purchasing behavior - how frequently they purchase the product."
   ]
  },
  {
   "cell_type": "markdown",
   "metadata": {},
   "source": [
    "# Load the data\n",
    "customer_data = pd.read_csv('CustomerFrequency/Data/customer_data.csv')\n",
    "transaction_data = pd.read_csv('CustomerFrequency/Data/transactions_data.csv')"
   ]
  },
  {
   "cell_type": "code",
   "execution_count": null,
   "metadata": {},
   "outputs": [],
   "source": [
    "# Data Pre-processing\n",
    "\n",
    "transaction_data['date_of_payment'] = pd.to_datetime(transaction_data['date_of_payment'])\n",
    "\n",
    "transactions_per_customer = transaction_data['customer_id'].value_counts().reset_index()\n",
    "transactions_per_customer.columns = ['customer_id', 'transaction_count']\n",
    "\n",
    "customer_transaction_data = pd.merge(customer_data, transactions_per_customer, on='customer_id', how='left').fillna(0)\n",
    "customer_transaction_data.head()"
   ]
  },
  {
   "cell_type": "code",
   "execution_count": null,
   "metadata": {},
   "outputs": [],
   "source": [
    "# Define customer segments based on transaction count\n",
    "def categorize_customer(x):\n",
    "    if x > 4:\n",
    "        return 'Frequent Buyer'\n",
    "    elif x >= 2 and x <= 4:\n",
    "        return 'Occasional Buyer'\n",
    "    elif x == 1:\n",
    "        return 'One-Time Buyer'\n",
    "    else:\n",
    "        return 'Inactive'\n",
    "\n",
    "# Apply the categorization function\n",
    "customer_transaction_data['customer_segment'] = customer_transaction_data['transaction_count'].apply(categorize_customer)\n",
    "\n",
    "# Display the distribution of customer segments\n",
    "customer_segment_distribution = customer_transaction_data['customer_segment'].value_counts()\n",
    "customer_segment_distribution, customer_transaction_data.head()"
   ]
  },
  {
   "cell_type": "markdown",
   "metadata": {},
   "source": [
    "So, here we can see the customer segments, based on their purchasing frequency.\n",
    "\n",
    "Below, we can see the visualization of the segments:"
   ]
  },
  {
   "cell_type": "code",
   "execution_count": null,
   "metadata": {},
   "outputs": [],
   "source": [
    "visualize_customer_segments(customer_segment_distribution)"
   ]
  }
 ],
 "metadata": {
  "kernelspec": {
   "display_name": "Python 3 (ipykernel)",
   "language": "python",
   "name": "python3"
  },
  "language_info": {
   "codemirror_mode": {
    "name": "ipython",
    "version": 3
   },
   "file_extension": ".py",
   "mimetype": "text/x-python",
   "name": "python",
   "nbconvert_exporter": "python",
   "pygments_lexer": "ipython3",
   "version": "3.11.5"
  }
 },
 "nbformat": 4,
 "nbformat_minor": 2
}
