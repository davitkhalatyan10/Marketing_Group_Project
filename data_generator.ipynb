{
 "cells": [
  {
   "cell_type": "markdown",
   "metadata": {},
   "source": [
    "## Loading modules and packages"
   ]
  },
  {
   "cell_type": "code",
   "execution_count": 7,
   "metadata": {},
   "outputs": [],
   "source": [
    "from CustomerFrequency.DataBase.data_generator import generate_customer, generate_menu, generate_orders, generate_employee, generate_transactions\n",
    "import pandas as pd\n",
    "import random\n",
    "random.seed(85)\n",
    "import os"
   ]
  },
  {
   "cell_type": "markdown",
   "metadata": {},
   "source": [
    "## Declaring Constants"
   ]
  },
  {
   "cell_type": "code",
   "execution_count": 8,
   "metadata": {},
   "outputs": [],
   "source": [
    "NUMBER_OF_TRANSACTIONS=5000\n",
    "NUMBER_OF_EMPLOYEES=50\n",
    "NUMBER_OF_CUSTOMERS=2000\n",
    "NUMBER_OF_ORDERS=200\n",
    "output_file_path = 'Data/Customer_Transaction_with_Satisfaction.csv'"
   ]
  },
  {
   "cell_type": "markdown",
   "metadata": {},
   "source": [
    "## Generating Employee Data"
   ]
  },
  {
   "cell_type": "code",
   "execution_count": 6,
   "metadata": {},
   "outputs": [
    {
     "name": "stdout",
     "output_type": "stream",
     "text": [
      "   employee_Id first_name  last_name                         email  \\\n",
      "0            0     Selena  Gutierrez     blairjennifer@example.org   \n",
      "1            1   Jennifer     Graham         drobinson@example.com   \n",
      "2            2    Michele      Hardy  jeffreymcfarland@example.net   \n",
      "3            3      Jason   Campbell    anthonycynthia@example.org   \n",
      "4            4      Brian       Bell      ortizkristen@example.org   \n",
      "\n",
      "   builidingID      phone_number  \n",
      "0         4376  +374 (29) 255035  \n",
      "1         5062  +374 (10) 291486  \n",
      "2         5236  +374 (15) 508756  \n",
      "3         3045  +374 (32) 320473  \n",
      "4         3327  +374 (32) 588152  \n"
     ]
    }
   ],
   "source": [
    "employee_data = [generate_employee(employee_id) for employee_id in range(NUMBER_OF_EMPLOYEES)]\n",
    "\n",
    "# Convert the list of employee data to a DataFrame\n",
    "employee_df = pd.DataFrame(employee_data)\n",
    "\n",
    "# Display the first few rows of the DataFrame\n",
    "print(employee_df.head())\n",
    "\n",
    "# Write the DataFrame to a CSV file\n",
    "output_file_path = 'Data/employee_data.csv'\n",
    "if os.path.exists(output_file_path):\n",
    "    os.remove(output_file_path)\n",
    "    employee_df.to_csv(output_file_path, index=False)\n",
    "else:\n",
    "    employee_df.to_csv(output_file_path, index=False)"
   ]
  },
  {
   "cell_type": "markdown",
   "metadata": {},
   "source": [
    "## Generating Customer Data"
   ]
  },
  {
   "cell_type": "code",
   "execution_count": 6,
   "metadata": {},
   "outputs": [
    {
     "name": "stdout",
     "output_type": "stream",
     "text": [
      "   customer_id first_name  last_name      phone_number\n",
      "0            0      Laura   Anderson  +374 (49) 082773\n",
      "1            1       Alex     Turner  +374 (84) 515643\n",
      "2            2    Rebekah  Rodriguez  +374 (57) 405762\n",
      "3            3     Brandy     Miller  +374 (94) 879735\n",
      "4            4     Dustin     Harper  +374 (18) 104579\n"
     ]
    }
   ],
   "source": [
    "customer_data = [generate_customer(customer_id) for customer_id in range(NUMBER_OF_CUSTOMERS)]\n",
    "\n",
    "# Convert the list of customer data to a DataFrame\n",
    "customer_df = pd.DataFrame(customer_data)\n",
    "\n",
    "# Display the first few rows of the DataFrame\n",
    "print(customer_df.head())\n",
    "\n",
    "# Write the DataFrame to a CSV file\n",
    "output_file_path = 'Data/customer_data.csv'\n",
    "if os.path.exists(output_file_path):\n",
    "    os.remove(output_file_path)\n",
    "    employee_df.to_csv(output_file_path, index=False)\n",
    "else:\n",
    "    employee_df.to_csv(output_file_path, index=False)"
   ]
  },
  {
   "cell_type": "markdown",
   "metadata": {},
   "source": [
    "## Generating Menu Data"
   ]
  },
  {
   "cell_type": "code",
   "execution_count": 7,
   "metadata": {},
   "outputs": [
    {
     "name": "stdout",
     "output_type": "stream",
     "text": [
      "   menu_id                              name price  size\n",
      "0        1  Cinnamon Caramel Cream Cold Brew   750   0.5\n",
      "1        2     Iced Peach Green Tea Lemonade   550  0.25\n",
      "2        3                    Iced Green Tea  1200   0.5\n",
      "3        4                    Vanilla Cookie   350   0.5\n",
      "4        5                  Matcha Tea Latte   650  0.25\n"
     ]
    }
   ],
   "source": [
    "menu_data = [generate_menu(menu_id) for menu_id in range(1, 101)]\n",
    "\n",
    "# Convert the list of menu data to a DataFrame\n",
    "menu_df = pd.DataFrame(menu_data)\n",
    "\n",
    "# Display the first few rows of the DataFrame\n",
    "print(menu_df.head())\n",
    "\n",
    "# Write the DataFrame to a CSV file\n",
    "output_file_path = 'Data/menu_data.csv'\n",
    "if os.path.exists(output_file_path):\n",
    "    os.remove(output_file_path)\n",
    "    employee_df.to_csv(output_file_path, index=False)\n",
    "else:\n",
    "    employee_df.to_csv(output_file_path, index=False)"
   ]
  },
  {
   "cell_type": "markdown",
   "metadata": {},
   "source": [
    "## Generating Orders Data"
   ]
  },
  {
   "cell_type": "code",
   "execution_count": 8,
   "metadata": {},
   "outputs": [
    {
     "name": "stdout",
     "output_type": "stream",
     "text": [
      "   order_id              date_of_order  price  quantity_ordered  menu_id  \\\n",
      "0         1 2023-01-09 05:51:04.894036  23230                16        3   \n",
      "1         2 2022-05-24 15:10:01.070891   6500                18        7   \n",
      "2         3 2022-04-29 22:17:29.430000  17700                18       91   \n",
      "3         4 2020-09-05 20:02:11.591781  19650                18        3   \n",
      "4         5 2022-03-30 03:12:11.729565  18310                 5       20   \n",
      "\n",
      "   customer_id  \n",
      "0         1989  \n",
      "1         1999  \n",
      "2          447  \n",
      "3         1410  \n",
      "4          674  \n"
     ]
    }
   ],
   "source": [
    "order_data = [] \n",
    "for order_id in range(1, NUMBER_OF_ORDERS + 1):\n",
    "    menu_id = random.randint(1, len(menu_data))\n",
    "    customer_id = random.randint(1, len(customer_data))\n",
    "\n",
    "    order = generate_orders(order_id, menu_id, customer_id)\n",
    "    order_data.append(order)\n",
    "\n",
    "# Convert the list of order data to a DataFrame\n",
    "order_df = pd.DataFrame(order_data)\n",
    "\n",
    "# Display the first few rows of the DataFrame\n",
    "print(order_df.head())\n",
    "\n",
    "# Write the DataFrame to a CSV file\n",
    "output_file_path = 'Data/order_data.csv'\n",
    "if os.path.exists(output_file_path):\n",
    "    os.remove(output_file_path)\n",
    "    employee_df.to_csv(output_file_path, index=False)\n",
    "else:\n",
    "    employee_df.to_csv(output_file_path, index=False)\n",
    "\n"
   ]
  },
  {
   "cell_type": "markdown",
   "metadata": {},
   "source": [
    "## Generating Transactions Data"
   ]
  },
  {
   "cell_type": "code",
   "execution_count": 9,
   "metadata": {},
   "outputs": [
    {
     "name": "stdout",
     "output_type": "stream",
     "text": [
      "   transaction_id            date_of_payment  customer_id  employee_id  \\\n",
      "0               1 2022-04-29 02:45:15.334368          425           33   \n",
      "1               2 2023-04-10 22:40:50.683041          730           24   \n",
      "2               3 2021-08-09 01:53:37.740671           42           44   \n",
      "3               4 2022-05-03 09:03:14.431179         1392           41   \n",
      "4               5 2021-05-03 18:53:43.274213          638           26   \n",
      "\n",
      "   amount        type  \n",
      "0    7970    applepay  \n",
      "1   16790  mastercard  \n",
      "2    9270        cash  \n",
      "3    2010    applepay  \n",
      "4   27370        visa  \n"
     ]
    }
   ],
   "source": [
    "transactions_data = []\n",
    "\n",
    "for transaction_id in range(1, NUMBER_OF_TRANSACTIONS + 1):\n",
    "    customer_id = random.randint(1, len(customer_data))\n",
    "    employee_id = random.randint(1, len(employee_data))\n",
    "    \n",
    "    transaction = generate_transactions(transaction_id, customer_id, employee_id)\n",
    "    transactions_data.append(transaction)\n",
    "\n",
    "# Convert the list of transaction data to a DataFrame\n",
    "transactions_df = pd.DataFrame(transactions_data)\n",
    "\n",
    "# Display the first few rows of the DataFrame\n",
    "print(transactions_df.head())\n",
    "\n",
    "# Write the DataFrame to a CSV file\n",
    "output_file_path = 'Data/transactions_data.csv'\n",
    "if os.path.exists(output_file_path):\n",
    "    os.remove(output_file_path)\n",
    "    employee_df.to_csv(output_file_path, index=False)\n",
    "else:\n",
    "    employee_df.to_csv(output_file_path, index=False)\n",
    "  "
   ]
  },
  {
   "cell_type": "markdown",
   "metadata": {},
   "source": []
  }
 ],
 "metadata": {
  "kernelspec": {
   "display_name": "venv",
   "language": "python",
   "name": "python3"
  },
  "language_info": {
   "codemirror_mode": {
    "name": "ipython",
    "version": 3
   },
   "file_extension": ".py",
   "mimetype": "text/x-python",
   "name": "python",
   "nbconvert_exporter": "python",
   "pygments_lexer": "ipython3",
   "version": "3.12.3"
  }
 },
 "nbformat": 4,
 "nbformat_minor": 2
}
